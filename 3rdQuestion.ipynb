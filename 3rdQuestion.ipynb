{
 "cells": [
  {
   "cell_type": "code",
   "execution_count": 1,
   "id": "d5e1f155-21fe-4916-9de3-e47d3e6d7acb",
   "metadata": {},
   "outputs": [
    {
     "name": "stdout",
     "output_type": "stream",
     "text": [
      "Original array:\n",
      "[[0.98056562 0.46256724 0.29640943 0.51466599]\n",
      " [0.14005907 0.05354127 0.19602229 0.21442713]\n",
      " [0.18974495 0.36899269 0.55026242 0.18923173]\n",
      " [0.6533557  0.66233153 0.77736882 0.36303901]]\n",
      "Padded array:\n",
      "[[0.         0.         0.         0.         0.         0.        ]\n",
      " [0.         0.98056562 0.46256724 0.29640943 0.51466599 0.        ]\n",
      " [0.         0.14005907 0.05354127 0.19602229 0.21442713 0.        ]\n",
      " [0.         0.18974495 0.36899269 0.55026242 0.18923173 0.        ]\n",
      " [0.         0.6533557  0.66233153 0.77736882 0.36303901 0.        ]\n",
      " [0.         0.         0.         0.         0.         0.        ]]\n"
     ]
    }
   ],
   "source": [
    "# 3. Create a 4x4 NumPy array with random float values. Add a border of zeros around it, resulting in a 6x6 array.\n",
    "\n",
    "import numpy as np\n",
    "\n",
    "# Create a 4x4 NumPy array with random float values\n",
    "arr = np.random.rand(4, 4)\n",
    "print(\"Original array:\")\n",
    "print(arr)\n",
    "\n",
    "# Add a border of zeros around it\n",
    "arr_padded = np.pad(arr, 1, mode='constant')\n",
    "print(\"Padded array:\")\n",
    "print(arr_padded)"
   ]
  }
 ],
 "metadata": {
  "kernelspec": {
   "display_name": "Python 3 (ipykernel)",
   "language": "python",
   "name": "python3"
  },
  "language_info": {
   "codemirror_mode": {
    "name": "ipython",
    "version": 3
   },
   "file_extension": ".py",
   "mimetype": "text/x-python",
   "name": "python",
   "nbconvert_exporter": "python",
   "pygments_lexer": "ipython3",
   "version": "3.10.8"
  }
 },
 "nbformat": 4,
 "nbformat_minor": 5
}
