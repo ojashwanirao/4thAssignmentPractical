{
 "cells": [
  {
   "cell_type": "code",
   "execution_count": 1,
   "id": "5b270692-f7a5-4850-8cc0-811d529e900f",
   "metadata": {},
   "outputs": [
    {
     "name": "stdout",
     "output_type": "stream",
     "text": [
      "Original array:\n",
      "[205 240 463 403 986 808 118 158 723 687 697 288 866 847 265 471 267 545\n",
      " 561 705 677 353 667 522 715 542  11 399 905 572 783 883 730 362 934 473\n",
      "   8 608 492 764 193 652 299 765 704 823 309 138 730 654 985 999 495 678\n",
      " 559 269 816 405 453 696 948  90 264 366 429 646 597 330 678 210 193 340\n",
      "  36 700  82 875 130 230 811 277 186 331  33 371 509 361 836 802 190 900\n",
      " 905 626 541 129 863 802 123 692  51 293]\n",
      "Prime numbers:\n",
      "[463 677 353  11 883 193 823 269 193 811 277 331 509 541 863 293]\n"
     ]
    }
   ],
   "source": [
    "# 9. Generate a NumPy array of 100 random integers between 0 and 1000. Find and display all prime numbers in this array.\n",
    "\n",
    "import numpy as np\n",
    "\n",
    "def is_prime(n):\n",
    "    if n < 2:\n",
    "        return False\n",
    "    for i in range(2, int(n**0.5) + 1):\n",
    "        if n % i == 0:\n",
    "            return False\n",
    "    return True\n",
    "\n",
    "arr = np.random.randint(0, 1001, 100)\n",
    "print(\"Original array:\")\n",
    "print(arr)\n",
    "\n",
    "prime_numbers = arr[np.vectorize(is_prime)(arr)]\n",
    "print(\"Prime numbers:\")\n",
    "print(prime_numbers)"
   ]
  },
  {
   "cell_type": "code",
   "execution_count": null,
   "id": "c5ae034c-0074-4803-b7ab-e35f1f5dba9f",
   "metadata": {},
   "outputs": [],
   "source": []
  }
 ],
 "metadata": {
  "kernelspec": {
   "display_name": "Python 3 (ipykernel)",
   "language": "python",
   "name": "python3"
  },
  "language_info": {
   "codemirror_mode": {
    "name": "ipython",
    "version": 3
   },
   "file_extension": ".py",
   "mimetype": "text/x-python",
   "name": "python",
   "nbconvert_exporter": "python",
   "pygments_lexer": "ipython3",
   "version": "3.10.8"
  }
 },
 "nbformat": 4,
 "nbformat_minor": 5
}
