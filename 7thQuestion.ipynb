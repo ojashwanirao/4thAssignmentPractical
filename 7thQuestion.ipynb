{
 "cells": [
  {
   "cell_type": "code",
   "execution_count": 1,
   "id": "420da5e9-6dcf-4f26-8a55-d28422e62b54",
   "metadata": {},
   "outputs": [
    {
     "name": "stdout",
     "output_type": "stream",
     "text": [
      "Array 1:\n",
      "[[1 2]\n",
      " [3 4]]\n",
      "Array 2:\n",
      "[[5 6]\n",
      " [7 8]]\n",
      "Element-wise addition:\n",
      "[[ 6  8]\n",
      " [10 12]]\n",
      "Element-wise subtraction:\n",
      "[[-4 -4]\n",
      " [-4 -4]]\n",
      "Element-wise multiplication:\n",
      "[[ 5 12]\n",
      " [21 32]]\n",
      "Element-wise division:\n",
      "[[0.2        0.33333333]\n",
      " [0.42857143 0.5       ]]\n"
     ]
    }
   ],
   "source": [
    "# 7. Create two 2D NumPy arrays and perform element-wise addition, subtraction, multiplication, and division.\n",
    "\n",
    "import numpy as np\n",
    "\n",
    "arr1 = np.array([[1, 2], [3, 4]])\n",
    "arr2 = np.array([[5, 6], [7, 8]])\n",
    "\n",
    "print(\"Array 1:\")\n",
    "print(arr1)\n",
    "print(\"Array 2:\")\n",
    "print(arr2)\n",
    "\n",
    "print(\"Element-wise addition:\")\n",
    "print(arr1 + arr2)\n",
    "\n",
    "print(\"Element-wise subtraction:\")\n",
    "print(arr1 - arr2)\n",
    "\n",
    "print(\"Element-wise multiplication:\")\n",
    "print(arr1 * arr2)\n",
    "\n",
    "print(\"Element-wise division:\")\n",
    "print(arr1 / arr2)"
   ]
  },
  {
   "cell_type": "code",
   "execution_count": null,
   "id": "5c0b5384-28ec-47c0-94a8-e2d005385161",
   "metadata": {},
   "outputs": [],
   "source": []
  }
 ],
 "metadata": {
  "kernelspec": {
   "display_name": "Python 3 (ipykernel)",
   "language": "python",
   "name": "python3"
  },
  "language_info": {
   "codemirror_mode": {
    "name": "ipython",
    "version": 3
   },
   "file_extension": ".py",
   "mimetype": "text/x-python",
   "name": "python",
   "nbconvert_exporter": "python",
   "pygments_lexer": "ipython3",
   "version": "3.10.8"
  }
 },
 "nbformat": 4,
 "nbformat_minor": 5
}
