{
 "cells": [
  {
   "cell_type": "code",
   "execution_count": 3,
   "id": "a8e8bce3-9b65-43b9-af24-926ed26584c6",
   "metadata": {},
   "outputs": [
    {
     "name": "stdout",
     "output_type": "stream",
     "text": [
      "Original array:\n",
      "[[74 90 84]\n",
      " [22 73 93]\n",
      " [43 89 74]]\n",
      "Transposed array:\n",
      "[[74 22 43]\n",
      " [90 73 89]\n",
      " [84 93 74]]\n"
     ]
    }
   ],
   "source": [
    "#1. Create a 3x3 NumPy array with random integers between 1 and 100. Then, interchange its rows and columns.\n",
    "\n",
    "import numpy as np\n",
    "\n",
    "# Create a 3x3 NumPy array with random integers between 1 and 100\n",
    "arr = np.random.randint(1, 101, (3, 3))\n",
    "print(\"Original array:\")\n",
    "print(arr)\n",
    "\n",
    "# Interchange rows and columns (transpose)\n",
    "arr_transposed = arr.T\n",
    "print(\"Transposed array:\")\n",
    "print(arr_transposed)"
   ]
  }
 ],
 "metadata": {
  "kernelspec": {
   "display_name": "Python 3 (ipykernel)",
   "language": "python",
   "name": "python3"
  },
  "language_info": {
   "codemirror_mode": {
    "name": "ipython",
    "version": 3
   },
   "file_extension": ".py",
   "mimetype": "text/x-python",
   "name": "python",
   "nbconvert_exporter": "python",
   "pygments_lexer": "ipython3",
   "version": "3.10.8"
  }
 },
 "nbformat": 4,
 "nbformat_minor": 5
}
