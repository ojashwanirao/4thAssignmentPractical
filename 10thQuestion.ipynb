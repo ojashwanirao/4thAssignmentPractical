{
 "cells": [
  {
   "cell_type": "code",
   "execution_count": 3,
   "id": "b9f433f7-0f50-4426-b475-706916eabea0",
   "metadata": {},
   "outputs": [
    {
     "name": "stdout",
     "output_type": "stream",
     "text": [
      "Daily temperatures:\n",
      "[18 22 20 19 21 25 24 23 26 27 28 29 30 31 32 33 34 35 36 37 38 39 40 41\n",
      " 42 43 44 45 46 47]\n",
      "Weekly temperatures:\n",
      "[[18 22 20 19 21 25]\n",
      " [24 23 26 27 28 29]\n",
      " [30 31 32 33 34 35]\n",
      " [36 37 38 39 40 41]\n",
      " [42 43 44 45 46 47]]\n",
      "Weekly averages:\n",
      "[20.83333333 26.16666667 32.5        38.5        44.5       ]\n"
     ]
    }
   ],
   "source": [
    "#10. Create a NumPy array representing daily temperatures for a month. Calculate and display the weekly averages\n",
    "\n",
    "import numpy as np\n",
    "\n",
    "# Create a NumPy array representing daily temperatures for a month\n",
    "temperatures = np.array([18, 22, 20, 19, 21, 25, 24, 23, 26, 27, 28, 29, 30, 31, 32, 33, 34, 35, 36, 37, 38, 39, 40, 41, 42, 43, 44, 45, 46, 47])\n",
    "print(\"Daily temperatures:\")\n",
    "print(temperatures)\n",
    "\n",
    "# Reshape into weeks (assuming 5 weeks with 6 days each)\n",
    "weeks = temperatures.reshape(5, 6)\n",
    "print(\"Weekly temperatures:\")\n",
    "print(weeks)\n",
    "\n",
    "# Calculate weekly averages\n",
    "weekly_averages = np.mean(weeks, axis=1)\n",
    "print(\"Weekly averages:\")\n",
    "print(weekly_averages)"
   ]
  },
  {
   "cell_type": "code",
   "execution_count": null,
   "id": "02db3093-1a44-4e0c-8430-43d7eb542967",
   "metadata": {},
   "outputs": [],
   "source": []
  }
 ],
 "metadata": {
  "kernelspec": {
   "display_name": "Python 3 (ipykernel)",
   "language": "python",
   "name": "python3"
  },
  "language_info": {
   "codemirror_mode": {
    "name": "ipython",
    "version": 3
   },
   "file_extension": ".py",
   "mimetype": "text/x-python",
   "name": "python",
   "nbconvert_exporter": "python",
   "pygments_lexer": "ipython3",
   "version": "3.10.8"
  }
 },
 "nbformat": 4,
 "nbformat_minor": 5
}
