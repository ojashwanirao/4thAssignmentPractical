{
 "cells": [
  {
   "cell_type": "code",
   "execution_count": 1,
   "id": "256fec18-aa3c-44a7-85c8-6b0c64eb6907",
   "metadata": {},
   "outputs": [
    {
     "name": "stdout",
     "output_type": "stream",
     "text": [
      "Original array:\n",
      "['python' 'numpy' 'pandas']\n",
      "Uppercase:\n",
      "['PYTHON' 'NUMPY' 'PANDAS']\n",
      "Lowercase:\n",
      "['python' 'numpy' 'pandas']\n",
      "Title case:\n",
      "['Python' 'Numpy' 'Pandas']\n",
      "Swapcase:\n",
      "['PYTHON' 'NUMPY' 'PANDAS']\n"
     ]
    }
   ],
   "source": [
    "# 5. Create a NumPy array of strings ['python', 'numpy', 'pandas']. Apply different case transformations (uppercase, lowercase, title case, etc.) to each element.\n",
    "\n",
    "import numpy as np\n",
    "\n",
    "arr = np.array(['python', 'numpy', 'pandas'])\n",
    "\n",
    "print(\"Original array:\")\n",
    "print(arr)\n",
    "\n",
    "print(\"Uppercase:\")\n",
    "print(np.char.upper(arr))\n",
    "\n",
    "print(\"Lowercase:\")\n",
    "print(np.char.lower(arr))\n",
    "\n",
    "print(\"Title case:\")\n",
    "print(np.char.title(arr))\n",
    "\n",
    "print(\"Swapcase:\")\n",
    "print(np.char.swapcase(arr))"
   ]
  }
 ],
 "metadata": {
  "kernelspec": {
   "display_name": "Python 3 (ipykernel)",
   "language": "python",
   "name": "python3"
  },
  "language_info": {
   "codemirror_mode": {
    "name": "ipython",
    "version": 3
   },
   "file_extension": ".py",
   "mimetype": "text/x-python",
   "name": "python",
   "nbconvert_exporter": "python",
   "pygments_lexer": "ipython3",
   "version": "3.10.8"
  }
 },
 "nbformat": 4,
 "nbformat_minor": 5
}
