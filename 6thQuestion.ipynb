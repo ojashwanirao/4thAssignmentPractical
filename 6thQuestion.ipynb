{
 "cells": [
  {
   "cell_type": "code",
   "execution_count": 1,
   "id": "be30f7e3-3a5d-435e-8c7f-3b5b01e46bce",
   "metadata": {},
   "outputs": [
    {
     "name": "stdout",
     "output_type": "stream",
     "text": [
      "Original array:\n",
      "['hello' 'world' 'numpy']\n",
      "Array with spaces:\n",
      "[' h e l l o' ' w o r l d' ' n u m p y']\n"
     ]
    }
   ],
   "source": [
    "#6. Generate a NumPy array of words. Insert a space between each character of every word in the array.\n",
    "\n",
    "import numpy as np\n",
    "\n",
    "arr = np.array(['hello', 'world', 'numpy'])\n",
    "\n",
    "print(\"Original array:\")\n",
    "print(arr)\n",
    "\n",
    "arr_spaced = np.char.array([word.replace('', ' ') for word in arr])\n",
    "print(\"Array with spaces:\")\n",
    "print(arr_spaced)"
   ]
  }
 ],
 "metadata": {
  "kernelspec": {
   "display_name": "Python 3 (ipykernel)",
   "language": "python",
   "name": "python3"
  },
  "language_info": {
   "codemirror_mode": {
    "name": "ipython",
    "version": 3
   },
   "file_extension": ".py",
   "mimetype": "text/x-python",
   "name": "python",
   "nbconvert_exporter": "python",
   "pygments_lexer": "ipython3",
   "version": "3.10.8"
  }
 },
 "nbformat": 4,
 "nbformat_minor": 5
}
