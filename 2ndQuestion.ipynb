{
 "cells": [
  {
   "cell_type": "code",
   "execution_count": 2,
   "id": "ebf12d22-a2e8-44f0-bc61-aac8afb582a5",
   "metadata": {},
   "outputs": [
    {
     "name": "stdout",
     "output_type": "stream",
     "text": [
      "Original array:\n",
      "[ 1  2  3  4  5  6  7  8  9 10]\n",
      "Reshaped to 2x5 array:\n",
      "[[ 1  2  3  4  5]\n",
      " [ 6  7  8  9 10]]\n",
      "Reshaped to 5x2 array:\n",
      "[[ 1  2]\n",
      " [ 3  4]\n",
      " [ 5  6]\n",
      " [ 7  8]\n",
      " [ 9 10]]\n"
     ]
    }
   ],
   "source": [
    "#2. Generate a 1D NumPy array with 10 elements. Reshape it into a 2x5 array, then into a 5x2 array.\n",
    "\n",
    "import numpy as np\n",
    "\n",
    "# Generate a 1D NumPy array with 10 elements\n",
    "arr = np.arange(1, 11)\n",
    "print(\"Original array:\")\n",
    "print(arr)\n",
    "\n",
    "# Reshape into a 2x5 array\n",
    "arr_2x5 = arr.reshape(2, 5)\n",
    "print(\"Reshaped to 2x5 array:\")\n",
    "print(arr_2x5)\n",
    "\n",
    "# Reshape into a 5x2 array\n",
    "arr_5x2 = arr.reshape(5, 2)\n",
    "print(\"Reshaped to 5x2 array:\")\n",
    "print(arr_5x2)"
   ]
  }
 ],
 "metadata": {
  "kernelspec": {
   "display_name": "Python 3 (ipykernel)",
   "language": "python",
   "name": "python3"
  },
  "language_info": {
   "codemirror_mode": {
    "name": "ipython",
    "version": 3
   },
   "file_extension": ".py",
   "mimetype": "text/x-python",
   "name": "python",
   "nbconvert_exporter": "python",
   "pygments_lexer": "ipython3",
   "version": "3.10.8"
  }
 },
 "nbformat": 4,
 "nbformat_minor": 5
}
